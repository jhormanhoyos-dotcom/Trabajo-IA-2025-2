{
  "nbformat": 4,
  "nbformat_minor": 0,
  "metadata": {
    "colab": {
      "provenance": [],
      "authorship_tag": "ABX9TyM9UlHUQ7aPRY4vDBJ8qvz0",
      "include_colab_link": true
    },
    "kernelspec": {
      "name": "python3",
      "display_name": "Python 3"
    },
    "language_info": {
      "name": "python"
    }
  },
  "cells": [
    {
      "cell_type": "markdown",
      "metadata": {
        "id": "view-in-github",
        "colab_type": "text"
      },
      "source": [
        "<a href=\"https://colab.research.google.com/github/jhormanhoyos-dotcom/Trabajo-IA-2025-2/blob/main/01_exploraci%C3%B3n.ipynb\" target=\"_parent\"><img src=\"https://colab.research.google.com/assets/colab-badge.svg\" alt=\"Open In Colab\"/></a>"
      ]
    },
    {
      "cell_type": "code",
      "execution_count": null,
      "metadata": {
        "id": "6ZEOW0RZPX7w"
      },
      "outputs": [],
      "source": [
        "# 01 - exploración.ipynb\n",
        "import pandas as pd\n",
        "import matplotlib.pyplot as plt"
      ]
    },
    {
      "cell_type": "code",
      "source": [
        "# Cargar datos\n",
        "train = pd.read_csv('train.csv')"
      ],
      "metadata": {
        "id": "i5QYMetLQrjV"
      },
      "execution_count": null,
      "outputs": []
    },
    {
      "cell_type": "code",
      "source": [
        "# Cuantas columnas hay en el dateframe\n",
        "train.columns"
      ],
      "metadata": {
        "colab": {
          "base_uri": "https://localhost:8080/"
        },
        "id": "zaR62y5VR98s",
        "outputId": "dfb415bd-7390-4add-bc4c-54391ad7860d"
      },
      "execution_count": null,
      "outputs": [
        {
          "output_type": "execute_result",
          "data": {
            "text/plain": [
              "Index(['ID', 'PERIODO_ACADEMICO', 'E_PRGM_ACADEMICO', 'E_PRGM_DEPARTAMENTO',\n",
              "       'E_VALORMATRICULAUNIVERSIDAD', 'E_HORASSEMANATRABAJA',\n",
              "       'F_ESTRATOVIVIENDA', 'F_TIENEINTERNET', 'F_EDUCACIONPADRE',\n",
              "       'F_TIENELAVADORA', 'F_TIENEAUTOMOVIL', 'E_PRIVADO_LIBERTAD',\n",
              "       'E_PAGOMATRICULAPROPIO', 'F_TIENECOMPUTADOR', 'F_TIENEINTERNET.1',\n",
              "       'F_EDUCACIONMADRE', 'RENDIMIENTO_GLOBAL', 'INDICADOR_1', 'INDICADOR_2',\n",
              "       'INDICADOR_3', 'INDICADOR_4'],\n",
              "      dtype='object')"
            ]
          },
          "metadata": {},
          "execution_count": 7
        }
      ]
    },
    {
      "cell_type": "code",
      "source": [
        "# Mostrar las primeras filas\n",
        "print(\"Primeras filas del dataset:\")\n",
        "display(train.head())"
      ],
      "metadata": {
        "colab": {
          "base_uri": "https://localhost:8080/",
          "height": 429
        },
        "id": "XCBm9ebePaHm",
        "outputId": "76ea3313-96bc-4562-aed9-bcaf3ebd6260"
      },
      "execution_count": null,
      "outputs": [
        {
          "output_type": "stream",
          "name": "stdout",
          "text": [
            "Primeras filas del dataset:\n"
          ]
        },
        {
          "output_type": "display_data",
          "data": {
            "text/plain": [
              "       ID  PERIODO_ACADEMICO            E_PRGM_ACADEMICO E_PRGM_DEPARTAMENTO  \\\n",
              "0  904256              20212                  ENFERMERIA              BOGOTÁ   \n",
              "1  645256              20212                     DERECHO           ATLANTICO   \n",
              "2  308367              20203       MERCADEO Y PUBLICIDAD              BOGOTÁ   \n",
              "3  470353              20195  ADMINISTRACION DE EMPRESAS           SANTANDER   \n",
              "4  989032              20212                  PSICOLOGIA           ANTIOQUIA   \n",
              "\n",
              "                E_VALORMATRICULAUNIVERSIDAD E_HORASSEMANATRABAJA  \\\n",
              "0  Entre 5.5 millones y menos de 7 millones    Menos de 10 horas   \n",
              "1  Entre 2.5 millones y menos de 4 millones                    0   \n",
              "2  Entre 2.5 millones y menos de 4 millones      Más de 30 horas   \n",
              "3  Entre 4 millones y menos de 5.5 millones                    0   \n",
              "4  Entre 2.5 millones y menos de 4 millones  Entre 21 y 30 horas   \n",
              "\n",
              "  F_ESTRATOVIVIENDA F_TIENEINTERNET                    F_EDUCACIONPADRE  \\\n",
              "0         Estrato 3              Si    Técnica o tecnológica incompleta   \n",
              "1         Estrato 3              No      Técnica o tecnológica completa   \n",
              "2         Estrato 3              Si  Secundaria (Bachillerato) completa   \n",
              "3         Estrato 4              Si                             No sabe   \n",
              "4         Estrato 3              Si                   Primaria completa   \n",
              "\n",
              "  F_TIENELAVADORA  ... E_PRIVADO_LIBERTAD E_PAGOMATRICULAPROPIO  \\\n",
              "0              Si  ...                  N                    No   \n",
              "1              Si  ...                  N                    No   \n",
              "2              Si  ...                  N                    No   \n",
              "3              Si  ...                  N                    No   \n",
              "4              Si  ...                  N                    No   \n",
              "\n",
              "  F_TIENECOMPUTADOR F_TIENEINTERNET.1                    F_EDUCACIONMADRE  \\\n",
              "0                Si                Si                           Postgrado   \n",
              "1                Si                No    Técnica o tecnológica incompleta   \n",
              "2                No                Si  Secundaria (Bachillerato) completa   \n",
              "3                Si                Si  Secundaria (Bachillerato) completa   \n",
              "4                Si                Si                   Primaria completa   \n",
              "\n",
              "  RENDIMIENTO_GLOBAL INDICADOR_1  INDICADOR_2  INDICADOR_3  INDICADOR_4  \n",
              "0         medio-alto       0.322        0.208        0.310        0.267  \n",
              "1               bajo       0.311        0.215        0.292        0.264  \n",
              "2               bajo       0.297        0.214        0.305        0.264  \n",
              "3               alto       0.485        0.172        0.252        0.190  \n",
              "4         medio-bajo       0.316        0.232        0.285        0.294  \n",
              "\n",
              "[5 rows x 21 columns]"
            ],
            "text/html": [
              "\n",
              "  <div id=\"df-dc1a299c-72d8-42ce-92dc-e7c868999301\" class=\"colab-df-container\">\n",
              "    <div>\n",
              "<style scoped>\n",
              "    .dataframe tbody tr th:only-of-type {\n",
              "        vertical-align: middle;\n",
              "    }\n",
              "\n",
              "    .dataframe tbody tr th {\n",
              "        vertical-align: top;\n",
              "    }\n",
              "\n",
              "    .dataframe thead th {\n",
              "        text-align: right;\n",
              "    }\n",
              "</style>\n",
              "<table border=\"1\" class=\"dataframe\">\n",
              "  <thead>\n",
              "    <tr style=\"text-align: right;\">\n",
              "      <th></th>\n",
              "      <th>ID</th>\n",
              "      <th>PERIODO_ACADEMICO</th>\n",
              "      <th>E_PRGM_ACADEMICO</th>\n",
              "      <th>E_PRGM_DEPARTAMENTO</th>\n",
              "      <th>E_VALORMATRICULAUNIVERSIDAD</th>\n",
              "      <th>E_HORASSEMANATRABAJA</th>\n",
              "      <th>F_ESTRATOVIVIENDA</th>\n",
              "      <th>F_TIENEINTERNET</th>\n",
              "      <th>F_EDUCACIONPADRE</th>\n",
              "      <th>F_TIENELAVADORA</th>\n",
              "      <th>...</th>\n",
              "      <th>E_PRIVADO_LIBERTAD</th>\n",
              "      <th>E_PAGOMATRICULAPROPIO</th>\n",
              "      <th>F_TIENECOMPUTADOR</th>\n",
              "      <th>F_TIENEINTERNET.1</th>\n",
              "      <th>F_EDUCACIONMADRE</th>\n",
              "      <th>RENDIMIENTO_GLOBAL</th>\n",
              "      <th>INDICADOR_1</th>\n",
              "      <th>INDICADOR_2</th>\n",
              "      <th>INDICADOR_3</th>\n",
              "      <th>INDICADOR_4</th>\n",
              "    </tr>\n",
              "  </thead>\n",
              "  <tbody>\n",
              "    <tr>\n",
              "      <th>0</th>\n",
              "      <td>904256</td>\n",
              "      <td>20212</td>\n",
              "      <td>ENFERMERIA</td>\n",
              "      <td>BOGOTÁ</td>\n",
              "      <td>Entre 5.5 millones y menos de 7 millones</td>\n",
              "      <td>Menos de 10 horas</td>\n",
              "      <td>Estrato 3</td>\n",
              "      <td>Si</td>\n",
              "      <td>Técnica o tecnológica incompleta</td>\n",
              "      <td>Si</td>\n",
              "      <td>...</td>\n",
              "      <td>N</td>\n",
              "      <td>No</td>\n",
              "      <td>Si</td>\n",
              "      <td>Si</td>\n",
              "      <td>Postgrado</td>\n",
              "      <td>medio-alto</td>\n",
              "      <td>0.322</td>\n",
              "      <td>0.208</td>\n",
              "      <td>0.310</td>\n",
              "      <td>0.267</td>\n",
              "    </tr>\n",
              "    <tr>\n",
              "      <th>1</th>\n",
              "      <td>645256</td>\n",
              "      <td>20212</td>\n",
              "      <td>DERECHO</td>\n",
              "      <td>ATLANTICO</td>\n",
              "      <td>Entre 2.5 millones y menos de 4 millones</td>\n",
              "      <td>0</td>\n",
              "      <td>Estrato 3</td>\n",
              "      <td>No</td>\n",
              "      <td>Técnica o tecnológica completa</td>\n",
              "      <td>Si</td>\n",
              "      <td>...</td>\n",
              "      <td>N</td>\n",
              "      <td>No</td>\n",
              "      <td>Si</td>\n",
              "      <td>No</td>\n",
              "      <td>Técnica o tecnológica incompleta</td>\n",
              "      <td>bajo</td>\n",
              "      <td>0.311</td>\n",
              "      <td>0.215</td>\n",
              "      <td>0.292</td>\n",
              "      <td>0.264</td>\n",
              "    </tr>\n",
              "    <tr>\n",
              "      <th>2</th>\n",
              "      <td>308367</td>\n",
              "      <td>20203</td>\n",
              "      <td>MERCADEO Y PUBLICIDAD</td>\n",
              "      <td>BOGOTÁ</td>\n",
              "      <td>Entre 2.5 millones y menos de 4 millones</td>\n",
              "      <td>Más de 30 horas</td>\n",
              "      <td>Estrato 3</td>\n",
              "      <td>Si</td>\n",
              "      <td>Secundaria (Bachillerato) completa</td>\n",
              "      <td>Si</td>\n",
              "      <td>...</td>\n",
              "      <td>N</td>\n",
              "      <td>No</td>\n",
              "      <td>No</td>\n",
              "      <td>Si</td>\n",
              "      <td>Secundaria (Bachillerato) completa</td>\n",
              "      <td>bajo</td>\n",
              "      <td>0.297</td>\n",
              "      <td>0.214</td>\n",
              "      <td>0.305</td>\n",
              "      <td>0.264</td>\n",
              "    </tr>\n",
              "    <tr>\n",
              "      <th>3</th>\n",
              "      <td>470353</td>\n",
              "      <td>20195</td>\n",
              "      <td>ADMINISTRACION DE EMPRESAS</td>\n",
              "      <td>SANTANDER</td>\n",
              "      <td>Entre 4 millones y menos de 5.5 millones</td>\n",
              "      <td>0</td>\n",
              "      <td>Estrato 4</td>\n",
              "      <td>Si</td>\n",
              "      <td>No sabe</td>\n",
              "      <td>Si</td>\n",
              "      <td>...</td>\n",
              "      <td>N</td>\n",
              "      <td>No</td>\n",
              "      <td>Si</td>\n",
              "      <td>Si</td>\n",
              "      <td>Secundaria (Bachillerato) completa</td>\n",
              "      <td>alto</td>\n",
              "      <td>0.485</td>\n",
              "      <td>0.172</td>\n",
              "      <td>0.252</td>\n",
              "      <td>0.190</td>\n",
              "    </tr>\n",
              "    <tr>\n",
              "      <th>4</th>\n",
              "      <td>989032</td>\n",
              "      <td>20212</td>\n",
              "      <td>PSICOLOGIA</td>\n",
              "      <td>ANTIOQUIA</td>\n",
              "      <td>Entre 2.5 millones y menos de 4 millones</td>\n",
              "      <td>Entre 21 y 30 horas</td>\n",
              "      <td>Estrato 3</td>\n",
              "      <td>Si</td>\n",
              "      <td>Primaria completa</td>\n",
              "      <td>Si</td>\n",
              "      <td>...</td>\n",
              "      <td>N</td>\n",
              "      <td>No</td>\n",
              "      <td>Si</td>\n",
              "      <td>Si</td>\n",
              "      <td>Primaria completa</td>\n",
              "      <td>medio-bajo</td>\n",
              "      <td>0.316</td>\n",
              "      <td>0.232</td>\n",
              "      <td>0.285</td>\n",
              "      <td>0.294</td>\n",
              "    </tr>\n",
              "  </tbody>\n",
              "</table>\n",
              "<p>5 rows × 21 columns</p>\n",
              "</div>\n",
              "    <div class=\"colab-df-buttons\">\n",
              "\n",
              "  <div class=\"colab-df-container\">\n",
              "    <button class=\"colab-df-convert\" onclick=\"convertToInteractive('df-dc1a299c-72d8-42ce-92dc-e7c868999301')\"\n",
              "            title=\"Convert this dataframe to an interactive table.\"\n",
              "            style=\"display:none;\">\n",
              "\n",
              "  <svg xmlns=\"http://www.w3.org/2000/svg\" height=\"24px\" viewBox=\"0 -960 960 960\">\n",
              "    <path d=\"M120-120v-720h720v720H120Zm60-500h600v-160H180v160Zm220 220h160v-160H400v160Zm0 220h160v-160H400v160ZM180-400h160v-160H180v160Zm440 0h160v-160H620v160ZM180-180h160v-160H180v160Zm440 0h160v-160H620v160Z\"/>\n",
              "  </svg>\n",
              "    </button>\n",
              "\n",
              "  <style>\n",
              "    .colab-df-container {\n",
              "      display:flex;\n",
              "      gap: 12px;\n",
              "    }\n",
              "\n",
              "    .colab-df-convert {\n",
              "      background-color: #E8F0FE;\n",
              "      border: none;\n",
              "      border-radius: 50%;\n",
              "      cursor: pointer;\n",
              "      display: none;\n",
              "      fill: #1967D2;\n",
              "      height: 32px;\n",
              "      padding: 0 0 0 0;\n",
              "      width: 32px;\n",
              "    }\n",
              "\n",
              "    .colab-df-convert:hover {\n",
              "      background-color: #E2EBFA;\n",
              "      box-shadow: 0px 1px 2px rgba(60, 64, 67, 0.3), 0px 1px 3px 1px rgba(60, 64, 67, 0.15);\n",
              "      fill: #174EA6;\n",
              "    }\n",
              "\n",
              "    .colab-df-buttons div {\n",
              "      margin-bottom: 4px;\n",
              "    }\n",
              "\n",
              "    [theme=dark] .colab-df-convert {\n",
              "      background-color: #3B4455;\n",
              "      fill: #D2E3FC;\n",
              "    }\n",
              "\n",
              "    [theme=dark] .colab-df-convert:hover {\n",
              "      background-color: #434B5C;\n",
              "      box-shadow: 0px 1px 3px 1px rgba(0, 0, 0, 0.15);\n",
              "      filter: drop-shadow(0px 1px 2px rgba(0, 0, 0, 0.3));\n",
              "      fill: #FFFFFF;\n",
              "    }\n",
              "  </style>\n",
              "\n",
              "    <script>\n",
              "      const buttonEl =\n",
              "        document.querySelector('#df-dc1a299c-72d8-42ce-92dc-e7c868999301 button.colab-df-convert');\n",
              "      buttonEl.style.display =\n",
              "        google.colab.kernel.accessAllowed ? 'block' : 'none';\n",
              "\n",
              "      async function convertToInteractive(key) {\n",
              "        const element = document.querySelector('#df-dc1a299c-72d8-42ce-92dc-e7c868999301');\n",
              "        const dataTable =\n",
              "          await google.colab.kernel.invokeFunction('convertToInteractive',\n",
              "                                                    [key], {});\n",
              "        if (!dataTable) return;\n",
              "\n",
              "        const docLinkHtml = 'Like what you see? Visit the ' +\n",
              "          '<a target=\"_blank\" href=https://colab.research.google.com/notebooks/data_table.ipynb>data table notebook</a>'\n",
              "          + ' to learn more about interactive tables.';\n",
              "        element.innerHTML = '';\n",
              "        dataTable['output_type'] = 'display_data';\n",
              "        await google.colab.output.renderOutput(dataTable, element);\n",
              "        const docLink = document.createElement('div');\n",
              "        docLink.innerHTML = docLinkHtml;\n",
              "        element.appendChild(docLink);\n",
              "      }\n",
              "    </script>\n",
              "  </div>\n",
              "\n",
              "\n",
              "    <div id=\"df-4e0e3a2e-aa97-431a-810f-cdda5a9dc557\">\n",
              "      <button class=\"colab-df-quickchart\" onclick=\"quickchart('df-4e0e3a2e-aa97-431a-810f-cdda5a9dc557')\"\n",
              "                title=\"Suggest charts\"\n",
              "                style=\"display:none;\">\n",
              "\n",
              "<svg xmlns=\"http://www.w3.org/2000/svg\" height=\"24px\"viewBox=\"0 0 24 24\"\n",
              "     width=\"24px\">\n",
              "    <g>\n",
              "        <path d=\"M19 3H5c-1.1 0-2 .9-2 2v14c0 1.1.9 2 2 2h14c1.1 0 2-.9 2-2V5c0-1.1-.9-2-2-2zM9 17H7v-7h2v7zm4 0h-2V7h2v10zm4 0h-2v-4h2v4z\"/>\n",
              "    </g>\n",
              "</svg>\n",
              "      </button>\n",
              "\n",
              "<style>\n",
              "  .colab-df-quickchart {\n",
              "      --bg-color: #E8F0FE;\n",
              "      --fill-color: #1967D2;\n",
              "      --hover-bg-color: #E2EBFA;\n",
              "      --hover-fill-color: #174EA6;\n",
              "      --disabled-fill-color: #AAA;\n",
              "      --disabled-bg-color: #DDD;\n",
              "  }\n",
              "\n",
              "  [theme=dark] .colab-df-quickchart {\n",
              "      --bg-color: #3B4455;\n",
              "      --fill-color: #D2E3FC;\n",
              "      --hover-bg-color: #434B5C;\n",
              "      --hover-fill-color: #FFFFFF;\n",
              "      --disabled-bg-color: #3B4455;\n",
              "      --disabled-fill-color: #666;\n",
              "  }\n",
              "\n",
              "  .colab-df-quickchart {\n",
              "    background-color: var(--bg-color);\n",
              "    border: none;\n",
              "    border-radius: 50%;\n",
              "    cursor: pointer;\n",
              "    display: none;\n",
              "    fill: var(--fill-color);\n",
              "    height: 32px;\n",
              "    padding: 0;\n",
              "    width: 32px;\n",
              "  }\n",
              "\n",
              "  .colab-df-quickchart:hover {\n",
              "    background-color: var(--hover-bg-color);\n",
              "    box-shadow: 0 1px 2px rgba(60, 64, 67, 0.3), 0 1px 3px 1px rgba(60, 64, 67, 0.15);\n",
              "    fill: var(--button-hover-fill-color);\n",
              "  }\n",
              "\n",
              "  .colab-df-quickchart-complete:disabled,\n",
              "  .colab-df-quickchart-complete:disabled:hover {\n",
              "    background-color: var(--disabled-bg-color);\n",
              "    fill: var(--disabled-fill-color);\n",
              "    box-shadow: none;\n",
              "  }\n",
              "\n",
              "  .colab-df-spinner {\n",
              "    border: 2px solid var(--fill-color);\n",
              "    border-color: transparent;\n",
              "    border-bottom-color: var(--fill-color);\n",
              "    animation:\n",
              "      spin 1s steps(1) infinite;\n",
              "  }\n",
              "\n",
              "  @keyframes spin {\n",
              "    0% {\n",
              "      border-color: transparent;\n",
              "      border-bottom-color: var(--fill-color);\n",
              "      border-left-color: var(--fill-color);\n",
              "    }\n",
              "    20% {\n",
              "      border-color: transparent;\n",
              "      border-left-color: var(--fill-color);\n",
              "      border-top-color: var(--fill-color);\n",
              "    }\n",
              "    30% {\n",
              "      border-color: transparent;\n",
              "      border-left-color: var(--fill-color);\n",
              "      border-top-color: var(--fill-color);\n",
              "      border-right-color: var(--fill-color);\n",
              "    }\n",
              "    40% {\n",
              "      border-color: transparent;\n",
              "      border-right-color: var(--fill-color);\n",
              "      border-top-color: var(--fill-color);\n",
              "    }\n",
              "    60% {\n",
              "      border-color: transparent;\n",
              "      border-right-color: var(--fill-color);\n",
              "    }\n",
              "    80% {\n",
              "      border-color: transparent;\n",
              "      border-right-color: var(--fill-color);\n",
              "      border-bottom-color: var(--fill-color);\n",
              "    }\n",
              "    90% {\n",
              "      border-color: transparent;\n",
              "      border-bottom-color: var(--fill-color);\n",
              "    }\n",
              "  }\n",
              "</style>\n",
              "\n",
              "      <script>\n",
              "        async function quickchart(key) {\n",
              "          const quickchartButtonEl =\n",
              "            document.querySelector('#' + key + ' button');\n",
              "          quickchartButtonEl.disabled = true;  // To prevent multiple clicks.\n",
              "          quickchartButtonEl.classList.add('colab-df-spinner');\n",
              "          try {\n",
              "            const charts = await google.colab.kernel.invokeFunction(\n",
              "                'suggestCharts', [key], {});\n",
              "          } catch (error) {\n",
              "            console.error('Error during call to suggestCharts:', error);\n",
              "          }\n",
              "          quickchartButtonEl.classList.remove('colab-df-spinner');\n",
              "          quickchartButtonEl.classList.add('colab-df-quickchart-complete');\n",
              "        }\n",
              "        (() => {\n",
              "          let quickchartButtonEl =\n",
              "            document.querySelector('#df-4e0e3a2e-aa97-431a-810f-cdda5a9dc557 button');\n",
              "          quickchartButtonEl.style.display =\n",
              "            google.colab.kernel.accessAllowed ? 'block' : 'none';\n",
              "        })();\n",
              "      </script>\n",
              "    </div>\n",
              "\n",
              "    </div>\n",
              "  </div>\n"
            ],
            "application/vnd.google.colaboratory.intrinsic+json": {
              "type": "dataframe"
            }
          },
          "metadata": {}
        }
      ]
    },
    {
      "cell_type": "code",
      "source": [
        "# Información general\n",
        "print(\"\\nInformación general del dataset:\")\n",
        "print(train.info())"
      ],
      "metadata": {
        "colab": {
          "base_uri": "https://localhost:8080/"
        },
        "id": "4lY7fH6KQytO",
        "outputId": "3816af48-24a5-4ed0-d46d-e8bb654214c6"
      },
      "execution_count": null,
      "outputs": [
        {
          "output_type": "stream",
          "name": "stdout",
          "text": [
            "\n",
            "Información general del dataset:\n",
            "<class 'pandas.core.frame.DataFrame'>\n",
            "RangeIndex: 404107 entries, 0 to 404106\n",
            "Data columns (total 21 columns):\n",
            " #   Column                       Non-Null Count   Dtype  \n",
            "---  ------                       --------------   -----  \n",
            " 0   ID                           404107 non-null  int64  \n",
            " 1   PERIODO_ACADEMICO            404107 non-null  int64  \n",
            " 2   E_PRGM_ACADEMICO             404107 non-null  object \n",
            " 3   E_PRGM_DEPARTAMENTO          404107 non-null  object \n",
            " 4   E_VALORMATRICULAUNIVERSIDAD  400444 non-null  object \n",
            " 5   E_HORASSEMANATRABAJA         386110 non-null  object \n",
            " 6   F_ESTRATOVIVIENDA            385449 non-null  object \n",
            " 7   F_TIENEINTERNET              388659 non-null  object \n",
            " 8   F_EDUCACIONPADRE             390636 non-null  object \n",
            " 9   F_TIENELAVADORA              380942 non-null  object \n",
            " 10  F_TIENEAUTOMOVIL             378670 non-null  object \n",
            " 11  E_PRIVADO_LIBERTAD           404106 non-null  object \n",
            " 12  E_PAGOMATRICULAPROPIO        400309 non-null  object \n",
            " 13  F_TIENECOMPUTADOR            381913 non-null  object \n",
            " 14  F_TIENEINTERNET.1            388658 non-null  object \n",
            " 15  F_EDUCACIONMADRE             390360 non-null  object \n",
            " 16  RENDIMIENTO_GLOBAL           404106 non-null  object \n",
            " 17  INDICADOR_1                  404106 non-null  float64\n",
            " 18  INDICADOR_2                  404106 non-null  float64\n",
            " 19  INDICADOR_3                  404106 non-null  float64\n",
            " 20  INDICADOR_4                  404106 non-null  float64\n",
            "dtypes: float64(4), int64(2), object(15)\n",
            "memory usage: 64.7+ MB\n",
            "None\n"
          ]
        }
      ]
    },
    {
      "cell_type": "code",
      "source": [
        "# Conteo de estudiantes por clase de rendimiento\n",
        "print(\"\\nConteo de estudiantes por clase RENDIMIENTO_GLOBAL:\")\n",
        "print(train['RENDIMIENTO_GLOBAL'].value_counts())"
      ],
      "metadata": {
        "colab": {
          "base_uri": "https://localhost:8080/"
        },
        "id": "88-derGGQ0qu",
        "outputId": "ff9e367d-425c-45bb-beb6-32f8affd4c40"
      },
      "execution_count": null,
      "outputs": [
        {
          "output_type": "stream",
          "name": "stdout",
          "text": [
            "\n",
            "Conteo de estudiantes por clase RENDIMIENTO_GLOBAL:\n",
            "RENDIMIENTO_GLOBAL\n",
            "alto          102519\n",
            "medio-bajo    100630\n",
            "bajo          100617\n",
            "medio-alto    100340\n",
            "Name: count, dtype: int64\n"
          ]
        }
      ]
    },
    {
      "cell_type": "code",
      "source": [
        "# Visualización: distribución de clases\n",
        "train['RENDIMIENTO_GLOBAL'].value_counts().plot(kind='bar', color='skyblue')\n",
        "plt.title('Distribución de estudiantes por clase de rendimiento')\n",
        "plt.xlabel('RENDIMIENTO_GLOBAL')\n",
        "plt.ylabel('Cantidad de estudiantes')\n",
        "plt.show()"
      ],
      "metadata": {
        "colab": {
          "base_uri": "https://localhost:8080/",
          "height": 537
        },
        "id": "Oj-6urkfQ2Pv",
        "outputId": "02255ce1-ac13-4763-fa02-540f7c9c547e"
      },
      "execution_count": null,
      "outputs": [
        {
          "output_type": "display_data",
          "data": {
            "text/plain": [
              "<Figure size 640x480 with 1 Axes>"
            ],
            "image/png": "[encoded data removed]"
          },
          "metadata": {}
        }
      ]
    },
    {
      "cell_type": "code",
      "source": [
        "# Análisis de estrato de vivienda\n",
        "print(\"\\nConteo por estrato de vivienda (F_ESTRATOVIVIENDA):\")\n",
        "print(train['F_ESTRATOVIVIENDA'].value_counts().sort_index())"
      ],
      "metadata": {
        "colab": {
          "base_uri": "https://localhost:8080/"
        },
        "id": "2klEJDX_Q4XG",
        "outputId": "2c064561-ae25-40bd-c07b-750da50120b7"
      },
      "execution_count": null,
      "outputs": [
        {
          "output_type": "stream",
          "name": "stdout",
          "text": [
            "\n",
            "Conteo por estrato de vivienda (F_ESTRATOVIVIENDA):\n",
            "F_ESTRATOVIVIENDA\n",
            "Estrato 1       65248\n",
            "Estrato 2      136118\n",
            "Estrato 3      122867\n",
            "Estrato 4       38286\n",
            "Estrato 5       13757\n",
            "Estrato 6        7295\n",
            "Sin Estrato      1878\n",
            "Name: count, dtype: int64\n"
          ]
        }
      ]
    },
    {
      "cell_type": "code",
      "source": [
        "train['F_ESTRATOVIVIENDA'].value_counts().sort_index().plot(kind='bar', color='green')\n",
        "plt.title('Distribución por estrato de vivienda')\n",
        "plt.xlabel('Estrato')\n",
        "plt.ylabel('Cantidad de estudiantes')\n",
        "plt.show()"
      ],
      "metadata": {
        "colab": {
          "base_uri": "https://localhost:8080/",
          "height": 534
        },
        "id": "MfIKzqdhTgGD",
        "outputId": "d8f9a37d-252e-4ac8-963d-cd650f619273"
      },
      "execution_count": null,
      "outputs": [
        {
          "output_type": "display_data",
          "data": {
            "text/plain": [
              "<Figure size 640x480 with 1 Axes>"
            ],
            "image/png": "[encoded data removed]"
          },
          "metadata": {}
        }
      ]
    },
    {
      "cell_type": "code",
      "source": [
        "# Análisis de educación de los padres\n",
        "print(\"\\nConteo educación del padre (F_EDUCACIONPADRE):\")\n",
        "print(train['F_EDUCACIONPADRE'].value_counts())"
      ],
      "metadata": {
        "colab": {
          "base_uri": "https://localhost:8080/"
        },
        "id": "Y2A7dXvRTiby",
        "outputId": "e3e3956a-8db7-481a-9bef-1da6e8d30331"
      },
      "execution_count": null,
      "outputs": [
        {
          "output_type": "stream",
          "name": "stdout",
          "text": [
            "\n",
            "Conteo educación del padre (F_EDUCACIONPADRE):\n",
            "F_EDUCACIONPADRE\n",
            "Secundaria (Bachillerato) completa      75385\n",
            "Primaria incompleta                     73054\n",
            "Educación profesional completa          48406\n",
            "Secundaria (Bachillerato) incompleta    41777\n",
            "Técnica o tecnológica completa          36561\n",
            "Primaria completa                       32540\n",
            "Postgrado                               25801\n",
            "Educación profesional incompleta        15800\n",
            "Técnica o tecnológica incompleta        13230\n",
            "Ninguno                                 12955\n",
            "No sabe                                  9709\n",
            "No Aplica                                5417\n",
            "Pr                                          1\n",
            "Name: count, dtype: int64\n"
          ]
        }
      ]
    },
    {
      "cell_type": "code",
      "source": [
        "# Análisis de educación de las madres\n",
        "print(\"\\nConteo educación de la madre (F_EDUCACIONMADRE):\")\n",
        "print(train['F_EDUCACIONMADRE'].value_counts())"
      ],
      "metadata": {
        "colab": {
          "base_uri": "https://localhost:8080/"
        },
        "id": "WrxB09ygTp3z",
        "outputId": "7b1f77eb-ab3b-42bd-8cc6-4d3b5f7f8ba0"
      },
      "execution_count": null,
      "outputs": [
        {
          "output_type": "stream",
          "name": "stdout",
          "text": [
            "\n",
            "Conteo educación de la madre (F_EDUCACIONMADRE):\n",
            "F_EDUCACIONMADRE\n",
            "Secundaria (Bachillerato) completa      82904\n",
            "Primaria incompleta                     57918\n",
            "Técnica o tecnológica completa          52209\n",
            "Educación profesional completa          49748\n",
            "Secundaria (Bachillerato) incompleta    47143\n",
            "Primaria completa                       32763\n",
            "Postgrado                               26999\n",
            "Técnica o tecnológica incompleta        16236\n",
            "Educación profesional incompleta        13106\n",
            "Ninguno                                  8485\n",
            "No sabe                                  1726\n",
            "No Aplica                                1123\n",
            "Name: count, dtype: int64\n"
          ]
        }
      ]
    },
    {
      "cell_type": "code",
      "source": [
        "# Horas que trabaja el estudiante por semana\n",
        "print(\"\\nEstadísticas de horas que trabaja el estudiante por semana (E_HORASSEMANATRABAJA):\")\n",
        "print(train['E_HORASSEMANATRABAJA'].describe())"
      ],
      "metadata": {
        "colab": {
          "base_uri": "https://localhost:8080/"
        },
        "id": "T4hyO1bJTwqb",
        "outputId": "4296a957-0cdc-4aa2-a737-94094bd5e8ef"
      },
      "execution_count": null,
      "outputs": [
        {
          "output_type": "stream",
          "name": "stdout",
          "text": [
            "\n",
            "Estadísticas de horas que trabaja el estudiante por semana (E_HORASSEMANATRABAJA):\n",
            "count              386110\n",
            "unique                  5\n",
            "top       Más de 30 horas\n",
            "freq               145653\n",
            "Name: E_HORASSEMANATRABAJA, dtype: object\n"
          ]
        }
      ]
    },
    {
      "cell_type": "code",
      "source": [
        "plt.hist(train['E_HORASSEMANATRABAJA'].dropna(), bins=20, color='orange')\n",
        "plt.title('Distribución de horas que trabaja el estudiante por semana')\n",
        "plt.xlabel('Horas por semana')\n",
        "plt.ylabel('Cantidad de estudiantes')\n",
        "plt.show()"
      ],
      "metadata": {
        "colab": {
          "base_uri": "https://localhost:8080/",
          "height": 472
        },
        "id": "RB8bXPnCTz1L",
        "outputId": "ec7932e7-ea5e-4214-a22f-9bd4322b4c26"
      },
      "execution_count": null,
      "outputs": [
        {
          "output_type": "display_data",
          "data": {
            "text/plain": [
              "<Figure size 640x480 with 1 Axes>"
            ],
            "image/png": "[encoded data removed]"
          },
          "metadata": {}
        }
      ]
    },
    {
      "cell_type": "code",
      "source": [
        "# Relación entre estrato y rendimiento (boxplot)\n",
        "import seaborn as sns\n",
        "plt.figure(figsize=(8,5))\n",
        "sns.boxplot(x='F_ESTRATOVIVIENDA', y='RENDIMIENTO_GLOBAL', data=train)\n",
        "plt.title('Rendimiento global según estrato de vivienda')\n",
        "plt.xlabel('Estrato de vivienda')\n",
        "plt.ylabel('Rendimiento global')\n",
        "plt.show()"
      ],
      "metadata": {
        "colab": {
          "base_uri": "https://localhost:8080/",
          "height": 488
        },
        "id": "CpIgBVUDT3Jc",
        "outputId": "b864255a-84f0-461b-e24e-83fd5c20b2f7"
      },
      "execution_count": null,
      "outputs": [
        {
          "output_type": "display_data",
          "data": {
            "text/plain": [
              "<Figure size 800x500 with 1 Axes>"
            ],
            "image/png": "[encoded data removed]"
          },
          "metadata": {}
        }
      ]
    }
  ]
}